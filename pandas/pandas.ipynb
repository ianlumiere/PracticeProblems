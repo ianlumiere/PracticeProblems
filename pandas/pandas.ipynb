{
 "cells": [
  {
   "cell_type": "code",
   "execution_count": null,
   "metadata": {},
   "outputs": [],
   "source": [
    "import pandas as pd\n",
    "\n",
    "# this will read a file and load it into a DF\n",
    "# df = pd.read_csv('path/to/csv/data.csv')\n",
    "# df = pd.read_json('path/to/json/data.json')\n",
    "\n",
    "# cars, passings, price are the column names, the values are the rows for that column by index\n",
    "mydataset = {\n",
    "  'cars': [\"BMW\", \"Lexus\", \"Merc\", \"Honda\", \"Lambo\"],\n",
    "  'passings': [3, 7, 2, 5, None],\n",
    "  'price': [100.5, 90.1, None, 30.3, 502]\n",
    "}\n",
    "\n",
    "df = pd.DataFrame(mydataset)\n",
    "\n",
    "# this gives you the info on the table\n",
    "print(df.info())\n",
    "\n",
    "# this will print the whole DF\n",
    "print(df.to_string())\n",
    "\n",
    "# this prints the 2nd and 3rd row in the DF (pandas is 0 indexed)\n",
    "# it will also print the column names and index\n",
    "print(df.loc[[1, 2]])\n",
    "\n",
    "# get the first 2 rows\n",
    "print(df.head(2))\n",
    "\n",
    "# get the last 2 rows\n",
    "print(df.tail(2))\n"
   ]
  },
  {
   "cell_type": "code",
   "execution_count": null,
   "metadata": {},
   "outputs": [],
   "source": [
    "# returns a new DF with no empty cells\n",
    "new_df = df.dropna()\n",
    "print(new_df)\n",
    "\n",
    "# fills all empty cells with the value, we will use inplace=True to save time\n",
    "new_df2 = df.fillna(100000)\n",
    "print(new_df2)\n",
    "\n",
    "# we can also replace values in a specific column\n",
    "df[\"price\"].fillna(1500.4, inplace = True)\n",
    "print(df)"
   ]
  }
 ],
 "metadata": {
  "kernelspec": {
   "display_name": "Python 3.8.6 64-bit",
   "language": "python",
   "name": "python3"
  },
  "language_info": {
   "codemirror_mode": {
    "name": "ipython",
    "version": 3
   },
   "file_extension": ".py",
   "mimetype": "text/x-python",
   "name": "python",
   "nbconvert_exporter": "python",
   "pygments_lexer": "ipython3",
   "version": "3.8.6"
  },
  "orig_nbformat": 4,
  "vscode": {
   "interpreter": {
    "hash": "aee8b7b246df8f9039afb4144a1f6fd8d2ca17a180786b69acc140d282b71a49"
   }
  }
 },
 "nbformat": 4,
 "nbformat_minor": 2
}
