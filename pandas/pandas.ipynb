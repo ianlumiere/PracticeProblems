{
 "cells": [
  {
   "cell_type": "code",
   "execution_count": null,
   "metadata": {},
   "outputs": [],
   "source": [
    "import pandas as pd\n",
    "\n",
    "# this will read a file and load it into a DF\n",
    "# df = pd.read_csv('path/to/csv/data.csv')\n",
    "# df = pd.read_json('path/to/json/data.json')\n",
    "\n",
    "# cars, passings, price are the column names, the values are the rows for that column by index\n",
    "mydataset = {\n",
    "  \"cars\": [\"BMW\", \"Lexus\", \"Merc\", \"Honda\", \"Lambo\"],\n",
    "  \"passings\": [3, 7, 2, 5, None],\n",
    "  \"price\": [100.5, 30.3, None, 30.3, 502]\n",
    "}\n",
    "\n",
    "df = pd.DataFrame(mydataset)\n",
    "\n",
    "# this gives you the info on the table\n",
    "print(df.info())\n",
    "\n",
    "# shows column types\n",
    "print(df.dtypes)\n",
    "\n",
    "# this will print the whole DF\n",
    "print(df.to_string())\n",
    "\n",
    "# this prints the 2nd and 3rd row in the DF (pandas is 0 indexed)\n",
    "# it will also print the column names and index\n",
    "print(df.loc[[1, 2]])\n",
    "\n",
    "# get the first 2 rows\n",
    "print(df.head(2))\n",
    "\n",
    "# get the last 2 rows\n",
    "print(df.tail(2))\n"
   ]
  },
  {
   "cell_type": "code",
   "execution_count": null,
   "metadata": {},
   "outputs": [],
   "source": [
    "# returns a new DF with no empty cells\n",
    "new_df = df.dropna()\n",
    "print(new_df)\n",
    "\n",
    "# fills all empty cells with the value, we will use inplace=True to save time\n",
    "new_df2 = df.fillna(100000)\n",
    "print(new_df2)\n",
    "\n",
    "# we can also replace values in a specific column\n",
    "df[\"price\"].fillna(1500.4, inplace = True)\n",
    "print(df)"
   ]
  },
  {
   "cell_type": "code",
   "execution_count": null,
   "metadata": {},
   "outputs": [],
   "source": [
    "mean = df[\"price\"].mean()\n",
    "median = df[\"price\"].median()\n",
    "mode = df[\"price\"].mode()[0] # this gets the first value of the resulting df\n",
    "print(f\"mean: {mean}, median: {median}, mode: {mode}\")"
   ]
  },
  {
   "cell_type": "code",
   "execution_count": 14,
   "metadata": {},
   "outputs": [
    {
     "data": {
      "text/html": [
       "<div>\n",
       "<style scoped>\n",
       "    .dataframe tbody tr th:only-of-type {\n",
       "        vertical-align: middle;\n",
       "    }\n",
       "\n",
       "    .dataframe tbody tr th {\n",
       "        vertical-align: top;\n",
       "    }\n",
       "\n",
       "    .dataframe thead th {\n",
       "        text-align: right;\n",
       "    }\n",
       "</style>\n",
       "<table border=\"1\" class=\"dataframe\">\n",
       "  <thead>\n",
       "    <tr style=\"text-align: right;\">\n",
       "      <th></th>\n",
       "      <th>country</th>\n",
       "      <th>population</th>\n",
       "      <th>percent</th>\n",
       "      <th>capital city</th>\n",
       "    </tr>\n",
       "  </thead>\n",
       "  <tbody>\n",
       "    <tr>\n",
       "      <th>ITA</th>\n",
       "      <td>Italy</td>\n",
       "      <td>3721</td>\n",
       "      <td>0.83</td>\n",
       "      <td>Rome</td>\n",
       "    </tr>\n",
       "    <tr>\n",
       "      <th>ESP</th>\n",
       "      <td>Spain</td>\n",
       "      <td>2116</td>\n",
       "      <td>0.63</td>\n",
       "      <td>Madrid</td>\n",
       "    </tr>\n",
       "    <tr>\n",
       "      <th>GRC</th>\n",
       "      <td>Greece</td>\n",
       "      <td>121</td>\n",
       "      <td>0.15</td>\n",
       "      <td>Athens</td>\n",
       "    </tr>\n",
       "    <tr>\n",
       "      <th>FRA</th>\n",
       "      <td>France</td>\n",
       "      <td>4225</td>\n",
       "      <td>0.88</td>\n",
       "      <td>Paris</td>\n",
       "    </tr>\n",
       "    <tr>\n",
       "      <th>PRT</th>\n",
       "      <td>Portugal</td>\n",
       "      <td>100</td>\n",
       "      <td>0.14</td>\n",
       "      <td>Lisbon</td>\n",
       "    </tr>\n",
       "  </tbody>\n",
       "</table>\n",
       "</div>"
      ],
      "text/plain": [
       "      country  population  percent capital city\n",
       "ITA     Italy        3721     0.83         Rome\n",
       "ESP     Spain        2116     0.63       Madrid\n",
       "GRC    Greece         121     0.15       Athens\n",
       "FRA    France        4225     0.88        Paris\n",
       "PRT  Portugal         100     0.14       Lisbon"
      ]
     },
     "execution_count": 14,
     "metadata": {},
     "output_type": "execute_result"
    }
   ],
   "source": [
    "data = {'country': ['Italy','Spain','Greece','France','Portugal'],\n",
    "        'popu': [61, 46, 11, 65, 10],\n",
    "        'percent': [0.83,0.63,0.15,0.88,0.14]}\n",
    "\n",
    "df = pd.DataFrame(data, index=['ITA', 'ESP', 'GRC', 'FRA', 'PRT'])\n",
    "df\n",
    "# Rename 'popu' column to 'population'\n",
    "dfnew = df.rename(columns={'popu': 'population'})\n",
    "dfnew\n",
    "# Add a list as a new column \n",
    "dfnew['capital city'] = ['Rome','Madrid','Athens','Paris','Lisbon']\n",
    "dfnew\n",
    "# Add an array as a new column \n",
    "ar = [39,34,30,33,351]\n",
    "ar\n",
    "dfnew['Calling code'] = ar\n",
    "dfnew\n",
    "# Add a Series array as a new column \n",
    "# When adding a Series data are automatically aligned based on index \n",
    "ser = pd.Series(['es','it','fr','pt','gr'], index = ['ESP','ITA','FRA','PRT','GRC'])\n",
    "dfnew['Internet domain'] = ser\n",
    "dfnew\n",
    "# Delete using del \n",
    "del dfnew['Internet domain']\n",
    "dfnew\n",
    "# Delete using drop() \n",
    "dfdrop = dfnew.drop(['Calling code'], axis=1)\n",
    "dfdrop\n",
    "\n",
    "# do something to all values in a col\n",
    "dfdrop['population'] = dfdrop['population'].apply(lambda x: x**2)\n",
    "dfdrop\n"
   ]
  },
  {
   "cell_type": "code",
   "execution_count": null,
   "metadata": {},
   "outputs": [],
   "source": [
    "# iterate over column names\n",
    "for col in dfdrop:\n",
    "    print(col)\n",
    "\n",
    "# iterate over columns with their values\n",
    "for col in dfdrop:\n",
    "    print(dfdrop[col])"
   ]
  }
 ],
 "metadata": {
  "kernelspec": {
   "display_name": "Python 3.8.6 64-bit",
   "language": "python",
   "name": "python3"
  },
  "language_info": {
   "codemirror_mode": {
    "name": "ipython",
    "version": 3
   },
   "file_extension": ".py",
   "mimetype": "text/x-python",
   "name": "python",
   "nbconvert_exporter": "python",
   "pygments_lexer": "ipython3",
   "version": "3.8.6"
  },
  "orig_nbformat": 4,
  "vscode": {
   "interpreter": {
    "hash": "aee8b7b246df8f9039afb4144a1f6fd8d2ca17a180786b69acc140d282b71a49"
   }
  }
 },
 "nbformat": 4,
 "nbformat_minor": 2
}
