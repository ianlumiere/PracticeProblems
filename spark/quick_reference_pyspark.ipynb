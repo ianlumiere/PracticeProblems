{
 "cells": [
  {
   "cell_type": "code",
   "execution_count": null,
   "metadata": {},
   "outputs": [],
   "source": [
    "nums = list(range(0, 1000001))\n",
    "\n",
    "# parallelize\n",
    "nums_rdd = sc.parallelize(nums) # this distributes the data and returns an RDD to nums_rdd\n",
    "\n",
    "# collect\n",
    "nums_rdd.collect() \n",
    "\n",
    "# take\n",
    "nums_rdd.take(5)\n",
    "\n",
    "# map\n",
    "squared_nums_rdd = nums_rdd.map(lambda x: x ** 2)\n",
    "pairs = nums_rdd.map(lambda x: (x, len(str(x))))\n",
    "pairs.take(25) # will show us that this worked\n",
    "\n",
    "# filter\n",
    "even_pairs = pairs.filter(lambda x: (x[1] % 2) == 0)\n",
    "even_pairs.take(25)\n",
    "\n",
    "# groupByKey\n",
    "swapped_pairs = even_pairs.map(lambda x: (x[1], x[0])) # make the number of digits the key for easier grouping\n",
    "grouped = swapped_pairs.groupByKey()\n",
    "grouped = grouped.map(lambda x: (x[0], list(x[1]))) # makes the output look nicer\n",
    "grouped.take(25)\n",
    "averaged = grouped.map(lambda x: (x[0], sum(x[1]) / len(x[1])))\n",
    "averaged.collect() # can collect this since we only have a few\n",
    "\n"
   ]
  }
 ],
 "metadata": {
  "kernelspec": {
   "display_name": "Python 3.8.6 64-bit",
   "language": "python",
   "name": "python3"
  },
  "language_info": {
   "name": "python",
   "version": "3.8.6"
  },
  "orig_nbformat": 4,
  "vscode": {
   "interpreter": {
    "hash": "aee8b7b246df8f9039afb4144a1f6fd8d2ca17a180786b69acc140d282b71a49"
   }
  }
 },
 "nbformat": 4,
 "nbformat_minor": 2
}
